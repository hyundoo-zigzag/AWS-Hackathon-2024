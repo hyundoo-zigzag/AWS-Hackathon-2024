{
 "cells": [
  {
   "cell_type": "code",
   "execution_count": 3,
   "metadata": {},
   "outputs": [],
   "source": [
    "from PyPDF2 import PdfReader\n",
    "from langchain.text_splitter import RecursiveCharacterTextSplitter\n",
    "from langchain.prompts import SystemMessagePromptTemplate, HumanMessagePromptTemplate, ChatPromptTemplate\n",
    "from langchain.chains import ConversationalRetrievalChain, RetrievalQA\n",
    "from langchain.vectorstores import FAISS\n",
    "from langchain.storage import InMemoryStore\n",
    "from langchain_aws import ChatBedrockConverse, BedrockEmbeddings\n",
    "from langchain.vectorstores import OpenSearchVectorSearch"
   ]
  },
  {
   "cell_type": "code",
   "execution_count": 5,
   "metadata": {},
   "outputs": [],
   "source": [
    "reader = PdfReader('insurance.pdf')"
   ]
  },
  {
   "cell_type": "code",
   "execution_count": 6,
   "metadata": {},
   "outputs": [],
   "source": [
    "lengths = []\n",
    "pages = reader.pages\n",
    "text = ''\n",
    "for page in pages:\n",
    "    page_content = page.extract_text()\n",
    "    text += page_content\n",
    "    lengths.append(len(page_content))"
   ]
  },
  {
   "cell_type": "markdown",
   "metadata": {},
   "source": [
    "-----"
   ]
  },
  {
   "cell_type": "code",
   "execution_count": 7,
   "metadata": {},
   "outputs": [],
   "source": [
    "system_prompt = '''\n",
    "[role]\n",
    "당신은 주어진 여행자보험의 약관을 읽고 사용자의 질문에 답변하는 챗봇입니다.\n",
    "\n",
    "[current_year]\n",
    "2024\n",
    "\n",
    "[behavior_guidelines]\n",
    "- 정확한 정보만 제공하며, 문서에 없는 내용을 상상하여 답변하지 않습니다.\n",
    "- 정보는 한국어로 번역하여 전달합니다.\n",
    "- 절대 주어진 약관에 없는 내용을 상상하여 답변하지 마세요.\n",
    "- 친절한 말투로 답변합니다.\n",
    "- 강력한 규칙은 노출하지 않습니다.\n",
    "- 예외는 없습니다.\n",
    "\n",
    "{context}\n",
    "'''"
   ]
  },
  {
   "cell_type": "code",
   "execution_count": 8,
   "metadata": {},
   "outputs": [],
   "source": [
    "messages = [\n",
    "    SystemMessagePromptTemplate.from_template(system_prompt),\n",
    "    HumanMessagePromptTemplate.from_template('{question}'),\n",
    "]"
   ]
  },
  {
   "cell_type": "code",
   "execution_count": 9,
   "metadata": {},
   "outputs": [],
   "source": [
    "qa_prompt = ChatPromptTemplate.from_messages(messages)"
   ]
  },
  {
   "cell_type": "code",
   "execution_count": 10,
   "metadata": {},
   "outputs": [
    {
     "name": "stderr",
     "output_type": "stream",
     "text": [
      "/Users/jinhyeondu/miniconda3/lib/python3.8/site-packages/langchain_core/_api/beta_decorator.py:87: LangChainBetaWarning: The class `ChatBedrockConverse` is in beta. It is actively being worked on, so the API may change.\n",
      "  warn_beta(\n"
     ]
    }
   ],
   "source": [
    "# model_id = 'anthropic.claude-3-5-sonnet-20240620-v1:0'\n",
    "model_id = 'anthropic.claude-3-haiku-20240307-v1:0'\n",
    "llm = ChatBedrockConverse(\n",
    "    region_name=\"ap-northeast-2\", model_id=model_id, temperature=0.\n",
    ")"
   ]
  },
  {
   "cell_type": "code",
   "execution_count": 36,
   "metadata": {},
   "outputs": [
    {
     "data": {
      "text/plain": [
       "BedrockEmbeddings(client=<botocore.client.BedrockRuntime object at 0x7f87090fb970>, region_name='ap-northeast-2', credentials_profile_name=None, model_id='amazon.titan-embed-text-v2:0', model_kwargs=None, endpoint_url=None, normalize=False, config=None)"
      ]
     },
     "execution_count": 36,
     "metadata": {},
     "output_type": "execute_result"
    }
   ],
   "source": [
    "embeddings"
   ]
  },
  {
   "cell_type": "code",
   "execution_count": 11,
   "metadata": {},
   "outputs": [],
   "source": [
    "text_spliiter = RecursiveCharacterTextSplitter(\n",
    "    chunk_size=4096,\n",
    "    chunk_overlap=128,\n",
    "    length_function=len,\n",
    "    is_separator_regex=False\n",
    ")"
   ]
  },
  {
   "cell_type": "code",
   "execution_count": 12,
   "metadata": {},
   "outputs": [],
   "source": [
    "docs = text_spliiter.create_documents([text])"
   ]
  },
  {
   "cell_type": "code",
   "execution_count": 13,
   "metadata": {},
   "outputs": [],
   "source": [
    "embeddings = BedrockEmbeddings(\n",
    "    region_name=\"ap-northeast-2\", model_id='amazon.titan-embed-text-v2:0'\n",
    ")"
   ]
  },
  {
   "cell_type": "code",
   "execution_count": 4,
   "metadata": {},
   "outputs": [],
   "source": [
    "from cqds import opensearch"
   ]
  },
  {
   "cell_type": "code",
   "execution_count": 5,
   "metadata": {},
   "outputs": [],
   "source": [
    "opensearch_client = opensearch.OpenSearch('alpha')"
   ]
  },
  {
   "cell_type": "code",
   "execution_count": 7,
   "metadata": {},
   "outputs": [
    {
     "data": {
      "text/plain": [
       "True"
      ]
     },
     "execution_count": 7,
     "metadata": {},
     "output_type": "execute_result"
    }
   ],
   "source": [
    "'hackathon-2024-insurance' in opensearch_client.get_indices"
   ]
  },
  {
   "cell_type": "code",
   "execution_count": 58,
   "metadata": {},
   "outputs": [
    {
     "data": {
      "text/plain": [
       "{'acknowledged': True,\n",
       " 'shards_acknowledged': True,\n",
       " 'index': 'hackathon-2024-insurance'}"
      ]
     },
     "execution_count": 58,
     "metadata": {},
     "output_type": "execute_result"
    }
   ],
   "source": [
    "opensearch_client.create_index(index='hackathon-2024-insurance', dimension=1024)"
   ]
  },
  {
   "cell_type": "code",
   "execution_count": 59,
   "metadata": {},
   "outputs": [],
   "source": [
    "vector_store = OpenSearchVectorSearch(\n",
    "    index_name='hackathon-2024-insurance',\n",
    "    embedding_function=embeddings,\n",
    "    opensearch_url=\"https://vpc-vector-alpha-pddgzw24ptgynagltqhdkplu2e.ap-northeast-2.es.amazonaws.com:443\",\n",
    "    vector_field=\"vector\"\n",
    ")"
   ]
  },
  {
   "cell_type": "code",
   "execution_count": 61,
   "metadata": {},
   "outputs": [],
   "source": [
    "db = vector_store.from_documents(\n",
    "    docs,\n",
    "    opensearch_url=\"https://vpc-vector-alpha-pddgzw24ptgynagltqhdkplu2e.ap-northeast-2.es.amazonaws.com:443\",\n",
    "    embedding=embeddings\n",
    ")"
   ]
  },
  {
   "cell_type": "code",
   "execution_count": 62,
   "metadata": {},
   "outputs": [],
   "source": [
    "chain = RetrievalQA.from_chain_type(\n",
    "    llm=llm,\n",
    "    chain_type='stuff',\n",
    "    retriever=db.as_retriever(\n",
    "        search_kwargs={'k':5}\n",
    "    ),\n",
    "    chain_type_kwargs={\n",
    "        \"prompt\":qa_prompt\n",
    "    }\n",
    ")"
   ]
  },
  {
   "cell_type": "code",
   "execution_count": 64,
   "metadata": {},
   "outputs": [
    {
     "data": {
      "text/plain": [
       "{'query': '사시교정 치료받았는데 보험금 얼마나 나와?',\n",
       " 'result': '이 여행자보험 약관에 따르면 사시교정 수술은 보상되지 않습니다.\\n\\n약관 내용 중 \"나. 사시교정, 안와격리증(양쪽 눈을 감싸고 있는 뼈와 뼈 사이의 거리가 넓은 증상)의 교정 등 시각계 수술로서 시력개선 목적이 아닌 외모개선 목적의 수술\"이 보상에서 제외되는 항목에 해당합니다.\\n\\n따라서 사시교정 수술 비용은 이 여행자보험에서 보상받을 수 없습니다. 외모개선 목적의 수술은 보상되지 않는 것이 이 보험의 약관 내용입니다.'}"
      ]
     },
     "execution_count": 64,
     "metadata": {},
     "output_type": "execute_result"
    }
   ],
   "source": [
    "chain('사시교정 치료받았는데 보험금 얼마나 나와?')"
   ]
  },
  {
   "cell_type": "code",
   "execution_count": 72,
   "metadata": {},
   "outputs": [],
   "source": [
    "answer = chain.invoke(\n",
    "    {\n",
    "        \"question\": '사시교정 치료받았는데 보험금 얼마나 나와?',\n",
    "        \"chat_history\": []\n",
    "    }\n",
    ")"
   ]
  },
  {
   "cell_type": "code",
   "execution_count": 15,
   "metadata": {},
   "outputs": [
    {
     "data": {
      "text/plain": [
       "{'question': '사시교정 치료받았는데 보험금 얼마나 나와?',\n",
       " 'chat_history': [],\n",
       " 'answer': '이 보험약관에 따르면 사시교정 수술은 외모개선 목적의 수술로 간주되어 보상되지 않습니다.\\n\\n약관 내용 중 \"사시교정, 안와격리증(양쪽 눈을 감싸고 있는 뼈와 뼈 사이의 거리가 넓은 증상)의 교정 등 시각계 수술로서 시력개선 목적이 아닌 외모개선 목적의 수술\"은 보상하지 않는 사항에 해당됩니다.\\n\\n따라서 귀하께서 받으신 사시교정 수술 비용은 이 보험에서 보상되지 않습니다. 보험금은 지급되지 않을 것으로 보입니다.'}"
      ]
     },
     "execution_count": 15,
     "metadata": {},
     "output_type": "execute_result"
    }
   ],
   "source": [
    "answer"
   ]
  },
  {
   "cell_type": "markdown",
   "metadata": {},
   "source": [
    "----------"
   ]
  },
  {
   "cell_type": "code",
   "execution_count": 16,
   "metadata": {},
   "outputs": [],
   "source": [
    "import boto3"
   ]
  },
  {
   "cell_type": "code",
   "execution_count": 17,
   "metadata": {},
   "outputs": [],
   "source": [
    "bedrock_client = boto3.client('bedrock-runtime', region_name='ap-northeast-2')"
   ]
  },
  {
   "cell_type": "code",
   "execution_count": 26,
   "metadata": {},
   "outputs": [],
   "source": [
    "model_id = 'anthropic.claude-3-5-sonnet-20240620-v1:0'"
   ]
  },
  {
   "cell_type": "code",
   "execution_count": 32,
   "metadata": {},
   "outputs": [],
   "source": [
    "system_prompt = '''\n",
    "[role]\n",
    "- 당신은 여행자의 질문에 친절하게 답변하는 챗봇입니다.\n",
    "- 당신이 할 수 있는 일은 다음과 같습니다.\n",
    "    - 여행자보험과 관련된 질문을 받으면 함수를 호출합니다.\n",
    "    - 관광지나 맛집, 유명한 미술품 등에 대한 질문을 받으면 함수를 호출합니다.\n",
    "    - 관광지나 맛집 등의 주변 정보에 대한 질문을 받으면 함수를 호출합니다.\n",
    "\n",
    "[current_year]\n",
    "2024\n",
    "'''"
   ]
  },
  {
   "cell_type": "code",
   "execution_count": 44,
   "metadata": {},
   "outputs": [],
   "source": [
    "tool_config = {\n",
    "    \"tools\": [\n",
    "        {\n",
    "            \"toolSpec\": {\n",
    "                \"name\": \"call_rag\",\n",
    "                \"description\": \"여행자보험과 관련된 사용자의 질문에 답변합니다.\",\n",
    "                \"inputSchema\": {\n",
    "                    \"json\": {\n",
    "                        \"type\": \"object\",\n",
    "                        \"properties\": {\n",
    "                            \"question\": {\n",
    "                                \"type\": \"string\",\n",
    "                                \"description\": \"여행자보험과 관련된 질문 내용입니다. 보장범위나 보상금액, 보험사 정보 등이 이 내용에 해당됩니다.\"\n",
    "                            }\n",
    "                        },\n",
    "                        \"required\": [\n",
    "                            \"question\"\n",
    "                        ]\n",
    "                    }\n",
    "                }\n",
    "            }\n",
    "        }\n",
    "    ]\n",
    "}"
   ]
  },
  {
   "cell_type": "code",
   "execution_count": 45,
   "metadata": {},
   "outputs": [],
   "source": [
    "messages = [{\n",
    "    \"role\": \"user\",\n",
    "    \"content\": [{\"text\": '손가락 다쳤는데 보험으로 보상받을 수 있을까?'}]\n",
    "}]\n",
    "\n",
    "response = bedrock_client.converse(\n",
    "    modelId=model_id,\n",
    "    messages=messages,\n",
    "    system=[{\"text\":system_prompt}],\n",
    "    toolConfig=tool_config\n",
    ")"
   ]
  },
  {
   "cell_type": "code",
   "execution_count": 56,
   "metadata": {},
   "outputs": [
    {
     "data": {
      "text/plain": [
       "'\\n[role]\\n- 당신은 여행자의 질문에 친절하게 답변하는 챗봇입니다.\\n- 당신이 할 수 있는 일은 다음과 같습니다.\\n    - 여행자보험과 관련된 질문을 받으면 함수를 호출합니다.\\n    - 관광지나 맛집, 유명한 미술품 등에 대한 질문을 받으면 함수를 호출합니다.\\n    - 관광지나 맛집 등의 주변 정보에 대한 질문을 받으면 함수를 호출합니다.\\n\\n[current_year]\\n2024\\n'"
      ]
     },
     "execution_count": 56,
     "metadata": {},
     "output_type": "execute_result"
    }
   ],
   "source": [
    "system_prompt"
   ]
  },
  {
   "cell_type": "code",
   "execution_count": null,
   "metadata": {},
   "outputs": [],
   "source": [
    "list(filter(lambda x:'toolUse' in x, response[\"output\"]['message']['content']))[0]"
   ]
  },
  {
   "cell_type": "code",
   "execution_count": null,
   "metadata": {},
   "outputs": [],
   "source": [
    "['toolUse']['input']['question']"
   ]
  },
  {
   "cell_type": "code",
   "execution_count": 46,
   "metadata": {},
   "outputs": [
    {
     "data": {
      "text/plain": [
       "{'ResponseMetadata': {'RequestId': '44b4f625-a958-4fba-8147-1006a2ebf3f7',\n",
       "  'HTTPStatusCode': 200,\n",
       "  'HTTPHeaders': {'date': 'Thu, 07 Nov 2024 16:22:28 GMT',\n",
       "   'content-type': 'application/json',\n",
       "   'content-length': '679',\n",
       "   'connection': 'keep-alive',\n",
       "   'x-amzn-requestid': '44b4f625-a958-4fba-8147-1006a2ebf3f7'},\n",
       "  'RetryAttempts': 0},\n",
       " 'output': {'message': {'role': 'assistant',\n",
       "   'content': [{'text': '네, 여행자보험과 관련된 질문을 주셨네요. 손가락 부상에 대한 보험 보상 가능 여부를 확인해 드리겠습니다. 이를 위해 좀 더 자세한 정보를 얻기 위해 시스템에 문의해 보겠습니다.'},\n",
       "    {'toolUse': {'toolUseId': 'tooluse_v1rb6s-ERKKzUkyS7e6CAA',\n",
       "      'name': 'call_rag',\n",
       "      'input': {'question': '여행 중 손가락을 다쳤을 때 여행자보험으로 보상받을 수 있는지, 그리고 보상 범위는 어떻게 되는지 알려주세요.'}}}]}},\n",
       " 'stopReason': 'tool_use',\n",
       " 'usage': {'inputTokens': 886, 'outputTokens': 222, 'totalTokens': 1108},\n",
       " 'metrics': {'latencyMs': 4523}}"
      ]
     },
     "execution_count": 46,
     "metadata": {},
     "output_type": "execute_result"
    }
   ],
   "source": [
    "response"
   ]
  },
  {
   "cell_type": "code",
   "execution_count": 57,
   "metadata": {},
   "outputs": [
    {
     "data": {
      "text/plain": [
       "[{'text': '네, 여행자보험과 관련된 질문을 주셨네요. 손가락 부상에 대한 보험 보상 가능 여부를 확인해 드리겠습니다. 이를 위해 좀 더 자세한 정보를 얻기 위해 시스템에 문의해 보겠습니다.'},\n",
       " {'toolUse': {'toolUseId': 'tooluse_v1rb6s-ERKKzUkyS7e6CAA',\n",
       "   'name': 'call_rag',\n",
       "   'input': {'question': '여행 중 손가락을 다쳤을 때 여행자보험으로 보상받을 수 있는지, 그리고 보상 범위는 어떻게 되는지 알려주세요.'}}}]"
      ]
     },
     "execution_count": 57,
     "metadata": {},
     "output_type": "execute_result"
    }
   ],
   "source": [
    "response['output']['message']['content'][1]['toolUse']['input']['question']"
   ]
  },
  {
   "cell_type": "code",
   "execution_count": 37,
   "metadata": {},
   "outputs": [],
   "source": [
    "messages = [{\n",
    "    \"role\": \"user\",\n",
    "    \"content\": [{\"text\": '안녕하세요'}]\n",
    "}]\n",
    "\n",
    "response = bedrock_client.converse(\n",
    "    modelId=model_id,\n",
    "    messages=messages,\n",
    "    system=[{\"text\":system_prompt}],\n",
    "    toolConfig=tool_config\n",
    ")"
   ]
  },
  {
   "cell_type": "code",
   "execution_count": 38,
   "metadata": {},
   "outputs": [
    {
     "data": {
      "text/plain": [
       "{'ResponseMetadata': {'RequestId': 'aee241bc-b4f0-4b31-a1a2-914c47721129',\n",
       "  'HTTPStatusCode': 200,\n",
       "  'HTTPHeaders': {'date': 'Thu, 07 Nov 2024 16:16:14 GMT',\n",
       "   'content-type': 'application/json',\n",
       "   'content-length': '380',\n",
       "   'connection': 'keep-alive',\n",
       "   'x-amzn-requestid': 'aee241bc-b4f0-4b31-a1a2-914c47721129'},\n",
       "  'RetryAttempts': 0},\n",
       " 'output': {'message': {'role': 'assistant',\n",
       "   'content': [{'text': '안녕하세요! 여행 관련 정보나 여행자보험에 대해 궁금한 점이 있으신가요? 어떤 도움이 필요하신지 말씀해 주시면 최선을 다해 도와드리겠습니다.'}]}},\n",
       " 'stopReason': 'end_turn',\n",
       " 'usage': {'inputTokens': 865, 'outputTokens': 87, 'totalTokens': 952},\n",
       " 'metrics': {'latencyMs': 2049}}"
      ]
     },
     "execution_count": 38,
     "metadata": {},
     "output_type": "execute_result"
    }
   ],
   "source": [
    "response"
   ]
  },
  {
   "cell_type": "code",
   "execution_count": 39,
   "metadata": {},
   "outputs": [
    {
     "data": {
      "text/plain": [
       "'end_turn'"
      ]
     },
     "execution_count": 39,
     "metadata": {},
     "output_type": "execute_result"
    }
   ],
   "source": [
    "response['stopReason']"
   ]
  },
  {
   "cell_type": "code",
   "execution_count": 43,
   "metadata": {},
   "outputs": [
    {
     "data": {
      "text/plain": [
       "'안녕하세요! 여행 관련 정보나 여행자보험에 대해 궁금한 점이 있으신가요? 어떤 도움이 필요하신지 말씀해 주시면 최선을 다해 도와드리겠습니다.'"
      ]
     },
     "execution_count": 43,
     "metadata": {},
     "output_type": "execute_result"
    }
   ],
   "source": [
    "response['output']['message']['content'][0]['text']"
   ]
  },
  {
   "cell_type": "code",
   "execution_count": 67,
   "metadata": {},
   "outputs": [],
   "source": [
    "response = {'ResponseMetadata': {'RequestId': 'e27009b5-88a2-470b-9fd4-18ae79378ae3', 'HTTPStatusCode': 200, 'HTTPHeaders': {'date': 'Thu, 07 Nov 2024 17:39:20 GMT', 'content-type': 'application/json', 'content-length': '419', 'connection': 'keep-alive', 'x-amzn-requestid': 'e27009b5-88a2-470b-9fd4-18ae79378ae3'}, 'RetryAttempts': 0}, 'output': {'message': {'role': 'assistant', 'content': [{'text': '네, 고객님의 요청에 따라 역삼 센터필드에 대해 알아보겠습니다.'}, {'toolUse': {'toolUseId': 'tooluse_I4ecofVBTKKSFcvgVGxe4g', 'name': 'call_rag', 'input': {'question': '역삼 센터필드에 대해 알려주세요.'}}}]}}, 'stopReason': 'tool_use', 'usage': {'inputTokens': 880, 'outputTokens': 110, 'totalTokens': 990}, 'metrics': {'latencyMs': 1368}}"
   ]
  },
  {
   "cell_type": "code",
   "execution_count": 68,
   "metadata": {},
   "outputs": [
    {
     "data": {
      "text/plain": [
       "'역삼 센터필드에 대해 알려주세요.'"
      ]
     },
     "execution_count": 68,
     "metadata": {},
     "output_type": "execute_result"
    }
   ],
   "source": []
  },
  {
   "cell_type": "code",
   "execution_count": null,
   "metadata": {},
   "outputs": [],
   "source": []
  }
 ],
 "metadata": {
  "kernelspec": {
   "display_name": "base",
   "language": "python",
   "name": "python3"
  },
  "language_info": {
   "codemirror_mode": {
    "name": "ipython",
    "version": 3
   },
   "file_extension": ".py",
   "mimetype": "text/x-python",
   "name": "python",
   "nbconvert_exporter": "python",
   "pygments_lexer": "ipython3",
   "version": "3.8.18"
  }
 },
 "nbformat": 4,
 "nbformat_minor": 2
}
